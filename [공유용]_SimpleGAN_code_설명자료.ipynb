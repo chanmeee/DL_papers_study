{
  "nbformat": 4,
  "nbformat_minor": 0,
  "metadata": {
    "colab": {
      "name": "[공유용] SimpleGAN_code_설명자료.ipynb",
      "provenance": [],
      "collapsed_sections": [],
      "authorship_tag": "ABX9TyNXfPJBnJpEe7WBqEme7LlF",
      "include_colab_link": true
    },
    "kernelspec": {
      "name": "python3",
      "display_name": "Python 3"
    },
    "language_info": {
      "name": "python"
    }
  },
  "cells": [
    {
      "cell_type": "markdown",
      "metadata": {
        "id": "view-in-github",
        "colab_type": "text"
      },
      "source": [
        "<a href=\"https://colab.research.google.com/github/chanmeee/DL_papers_study/blob/main/%5B%EA%B3%B5%EC%9C%A0%EC%9A%A9%5D_SimpleGAN_code_%EC%84%A4%EB%AA%85%EC%9E%90%EB%A3%8C.ipynb\" target=\"_parent\"><img src=\"https://colab.research.google.com/assets/colab-badge.svg\" alt=\"Open In Colab\"/></a>"
      ]
    },
    {
      "cell_type": "markdown",
      "source": [
        "### super()\n",
        "- 자식 클래스에서 부모클래스의 내용을 사용하고 싶을 경우 사용\n",
        "- 출처: https://rednooby.tistory.com/56 [개발자의 취미생활]"
      ],
      "metadata": {
        "id": "dkDe0QSKdkWT"
      }
    },
    {
      "cell_type": "code",
      "execution_count": null,
      "metadata": {
        "colab": {
          "base_uri": "https://localhost:8080/"
        },
        "id": "qBs3Lz8SdhuE",
        "outputId": "6d570c8d-218c-4228-db1d-be17974f37a0"
      },
      "outputs": [
        {
          "output_type": "stream",
          "name": "stdout",
          "text": [
            "잘생겼다\n",
            "예쁘다\n"
          ]
        }
      ],
      "source": [
        "class father():  # 부모 클래스\n",
        "    def handsome(self):\n",
        "        print(\"잘생겼다\")\n",
        " \n",
        " \n",
        "class brother(father):  # 자식클래스(부모클래스) 아빠매소드를 상속받겠다\n",
        "    '''아들'''\n",
        " \n",
        " \n",
        "class sister(father):  # 자식클래스(부모클래스) 아빠매소드를 상속받겠다\n",
        "    def pretty(self):\n",
        "        print(\"예쁘다\")\n",
        " \n",
        "    def handsome(self):   ### 누락됨, 오버라이딩 ###\n",
        "        '''물려받았어요'''\n",
        " \n",
        " \n",
        "brother = brother()\n",
        "brother.handsome()\n",
        " \n",
        "girl = sister()\n",
        "girl.handsome()\n",
        "girl.pretty() "
      ]
    },
    {
      "cell_type": "markdown",
      "source": [
        "원래대로라면 19번째, 22번째, 23번째가 실행될 때 출력이 되서 3개가 나와야 합니다. 근데 뭔가 하나가 빠졌죠?\n",
        "바로 14번째가 누락되서 22번째 출력이 되지 않은 것인데요.\n",
        "\n",
        "이것은 **오버라이딩** 때문에 그렇습니다.\n",
        "\n",
        "이제 sister에서도 잘생겼다가 출력되게 해보겠습니다."
      ],
      "metadata": {
        "id": "B95_7Almd3uO"
      }
    },
    {
      "cell_type": "markdown",
      "source": [
        "**수정 후**"
      ],
      "metadata": {
        "id": "_HctGCy-eX7d"
      }
    },
    {
      "cell_type": "code",
      "source": [
        "class father():  # 부모 클래스\n",
        "    def handsome(self):\n",
        "        print(\"잘생겼다\")\n",
        " \n",
        " \n",
        "class brother(father):  # 자식클래스(부모클래스) 아빠매소드를 상속받겠다\n",
        "    '''아들'''\n",
        " \n",
        " \n",
        "class sister(father):  # 자식클래스(부모클래스) 아빠매소드를 상속받겠다\n",
        "    def pretty(self):\n",
        "        print(\"예쁘다\")\n",
        " \n",
        "    def handsome(self):\n",
        "       super().handsome()  ### 앞에 super()를 달아줌 ###\n",
        " \n",
        " \n",
        "brother = brother()\n",
        "brother.handsome()\n",
        " \n",
        "girl = sister()\n",
        "girl.handsome()\n",
        "girl.pretty() "
      ],
      "metadata": {
        "colab": {
          "base_uri": "https://localhost:8080/"
        },
        "id": "ZTXpO64ud3X2",
        "outputId": "0f155b16-635c-4dca-e8b3-f4fa348c5702"
      },
      "execution_count": null,
      "outputs": [
        {
          "output_type": "stream",
          "name": "stdout",
          "text": [
            "잘생겼다\n",
            "잘생겼다\n",
            "예쁘다\n"
          ]
        }
      ]
    },
    {
      "cell_type": "markdown",
      "source": [
        "- super를 사용해야만 부모클래스로부터 상속받아 함수를 사용할 수 있다."
      ],
      "metadata": {
        "id": "c1UjAgLDet8y"
      }
    },
    {
      "cell_type": "markdown",
      "source": [
        "### nn.Linear()\n",
        "- nn.Module로 구현하는 선형 회귀: https://wikidocs.net/55409"
      ],
      "metadata": {
        "id": "85sMYa-Dgn7Z"
      }
    },
    {
      "cell_type": "markdown",
      "source": [
        "### 배치 정규화(Batch Normalization, BN)  ⭐⭐⭐⭐\n",
        "\n",
        "<img src=\"https://gaussian37.github.io/assets/img/dl/concept/batchnorm/4.png\" width=\"500\"/>\n",
        "\n",
        "- 배치 정규화란\n",
        "  - 학습 과정에서 각 배치 단위 별로 데이터가 다양한 분포를 가지더라도 **각 배치별로 평균과 분산을 이용해 정규화**하는 것\n",
        "  - 위 그림을 보면 batch 단위나 layer에 따라서 입력 값의 분포가 모두 다르지만 정규화를 통하여 분포를 zero mean gaussian 형태로 만듭니다.\n",
        "\n",
        "\n",
        "- 배치 정규화의 장점\n",
        "  - 보다 근본적으로 학습과정을 안정화\n",
        "    -  Internal Covariate Shift 문제를 해결하기 위한 과거의 개선책인 weight initialization과 small learning rate에서 좀 더 자유로워짐 \n",
        "  - 학습 속도를 빠르게 \n",
        "  - Regularization Effect, 따라서 overfitting 문제에 좀 더 강건해짐\n",
        "\n",
        "- 유의사항 \n",
        "  - 중요한 것은 Batch Normalization은 학습 단계와 추론 단계에서 조금 다르게 적용되어야 함\n",
        "   - 학습 단계에서는 데이터가 배치 단위로 들어오기 때문에 배치의 평균, 분산을 구하는 것이 가능하지만, 테스트 단계에서는 배치 단위로 평균/분산을 구하기가 어려워 **학습 단계에서 배치 단위의 평균/분산을 저장해 놓고 테스트 시에는 평균/분산을 사용** \n",
        "  - Batch Normalization은 **Batch의 크기에 영향을 많이 받음**\n",
        "    - (너무 작으면) 잘 동작하지 않음, 큰수의 법칙과 중심 극한 이론을 만족하지 못해 평균과 표준 편차가 데이터 전체 분포를 잘 표현하지 못함 \n",
        "    - (너무 크면) 중심 극한 이론을 만족하지 않아 정규 분포를 따르지 않고, multi modal 형태의 gaussian mixture 모델 형태, 비효율적 연산 \n",
        "\n",
        "\n",
        "---\n",
        "- 참고\n",
        "  - 배치 정규화(Batch Normalization) https://gaussian37.github.io/dl-concept-batchnorm/  👍 \n",
        "  - [DL] 배치 정규화(Batch Normalization) https://wooono.tistory.com/227"
      ],
      "metadata": {
        "id": "SFV_RpQwHIo-"
      }
    },
    {
      "cell_type": "markdown",
      "source": [
        "### nn.BatchNorm1d\n",
        "- nn.BatchNorm1d(num_features, eps=1e-05, momentum=0.1, ...)\n",
        "- momentum의 의미\n",
        "  - 얼마나 최신의 트렌드를 반영할지를 조절\n",
        "  - default = 0.1\n",
        "  - 테스트(추론) 단계에서의 BN을 구할 때 전체 Training Set의 평균과 표준편차를 구하는데, 이러한 방법 대신 모델 학습 단계에서 **지수 감소**(exponential decay) 이동 평균법(moving average)을 사용하여 평균과 표준편차를 계산할 수 있다.\n",
        "\n",
        "$$\\hat{μ} ← α\\hat{μ} + (1-α){μ_𝛣^{(i)}} \\ \\ \\ \\ \\ \\ \\text{// moving mean}$$\n",
        "$$\\hat{σ} ← α\\hat{σ} + (1-α){σ_𝛣^{(i)}} \\ \\ \\ \\ \\ \\ \\text{// moving stddev}$$\n",
        "\n",
        "  - 위의 식에서 α는 모멘텀(momentum) 값으로 일반적으로 1에 가까운 0.9, 0.99, 0.999로 설정한다. 이러한 moving mean과 moving stddev는 학습 단계에서 매 미니배치마다 업데이트 해준다. \n",
        "\n",
        "- 지수 가중 평균이란\n",
        "  - **오래된 데이터가 미치는 영향을 지수적으로 감쇠(exponential decay) 하도록 만들어 주는 방법\n",
        "---\n",
        "- 참고\n",
        "  - [DL] 지수 가중 평균 (Exponentially Weighted Averages) https://wooono.tistory.com/225"
      ],
      "metadata": {
        "id": "0TLaKSHKv0fw"
      }
    },
    {
      "cell_type": "markdown",
      "source": [
        "### 문자열 포맷팅\n",
        "- 문자열 포맷팅 방식은 `% 포맷팅`, `format 함수`, `f-string` 이 있지만 f-string의 연산 속도가 가장 빠르다.\n",
        "- f-string\n",
        "  - 문자열 앞에 접두사 f를 붙이고, 중괄호 ({}) 안에 변수를 넣는 것\n",
        "    - 서식 지정자: 문자열: s / 정수: d / 실수: f\n",
        "    - 소수점 자릿수 지정: {} 안에 `. 자릿수 f`\n",
        "  - 장점: **자료형의 변환 없이 문자열과 정수를 함께 넣을 수 있다**\n"
      ],
      "metadata": {
        "id": "4xVW1mEnlUEj"
      }
    },
    {
      "cell_type": "code",
      "source": [
        ""
      ],
      "metadata": {
        "id": "awkz7fJPduoS"
      },
      "execution_count": null,
      "outputs": []
    }
  ]
}